{
  "nbformat": 4,
  "nbformat_minor": 0,
  "metadata": {
    "colab": {
      "name": "Linear Regression(minor project).ipynb",
      "provenance": [],
      "toc_visible": true,
      "authorship_tag": "ABX9TyPFoJ/La9rsYSfnHWPHjrem",
      "include_colab_link": true
    },
    "kernelspec": {
      "name": "python3",
      "display_name": "Python 3"
    }
  },
  "cells": [
    {
      "cell_type": "markdown",
      "metadata": {
        "id": "view-in-github",
        "colab_type": "text"
      },
      "source": [
        "<a href=\"https://colab.research.google.com/github/shahil2104/Hibernate-ORM-Tutorials/blob/master/Linear_Regression(minor_project).ipynb\" target=\"_parent\"><img src=\"https://colab.research.google.com/assets/colab-badge.svg\" alt=\"Open In Colab\"/></a>"
      ]
    },
    {
      "cell_type": "code",
      "metadata": {
        "id": "fR0sloPrch_k",
        "colab_type": "code",
        "colab": {}
      },
      "source": [
        "import pandas as pd"
      ],
      "execution_count": null,
      "outputs": []
    },
    {
      "cell_type": "code",
      "metadata": {
        "id": "NaZlZ5LUfS5m",
        "colab_type": "code",
        "colab": {
          "base_uri": "https://localhost:8080/",
          "height": 402
        },
        "outputId": "3f8fc878-14d8-45a8-f45c-4a6e484c6658"
      },
      "source": [
        "df = pd.read_csv('test.csv')\n",
        "df"
      ],
      "execution_count": null,
      "outputs": [
        {
          "output_type": "execute_result",
          "data": {
            "text/html": [
              "<div>\n",
              "<style scoped>\n",
              "    .dataframe tbody tr th:only-of-type {\n",
              "        vertical-align: middle;\n",
              "    }\n",
              "\n",
              "    .dataframe tbody tr th {\n",
              "        vertical-align: top;\n",
              "    }\n",
              "\n",
              "    .dataframe thead th {\n",
              "        text-align: right;\n",
              "    }\n",
              "</style>\n",
              "<table border=\"1\" class=\"dataframe\">\n",
              "  <thead>\n",
              "    <tr style=\"text-align: right;\">\n",
              "      <th></th>\n",
              "      <th>x</th>\n",
              "      <th>y</th>\n",
              "    </tr>\n",
              "  </thead>\n",
              "  <tbody>\n",
              "    <tr>\n",
              "      <th>0</th>\n",
              "      <td>77</td>\n",
              "      <td>79.775152</td>\n",
              "    </tr>\n",
              "    <tr>\n",
              "      <th>1</th>\n",
              "      <td>21</td>\n",
              "      <td>23.177279</td>\n",
              "    </tr>\n",
              "    <tr>\n",
              "      <th>2</th>\n",
              "      <td>22</td>\n",
              "      <td>25.609262</td>\n",
              "    </tr>\n",
              "    <tr>\n",
              "      <th>3</th>\n",
              "      <td>20</td>\n",
              "      <td>17.857388</td>\n",
              "    </tr>\n",
              "    <tr>\n",
              "      <th>4</th>\n",
              "      <td>36</td>\n",
              "      <td>41.849864</td>\n",
              "    </tr>\n",
              "    <tr>\n",
              "      <th>...</th>\n",
              "      <td>...</td>\n",
              "      <td>...</td>\n",
              "    </tr>\n",
              "    <tr>\n",
              "      <th>295</th>\n",
              "      <td>71</td>\n",
              "      <td>68.545888</td>\n",
              "    </tr>\n",
              "    <tr>\n",
              "      <th>296</th>\n",
              "      <td>46</td>\n",
              "      <td>47.334876</td>\n",
              "    </tr>\n",
              "    <tr>\n",
              "      <th>297</th>\n",
              "      <td>55</td>\n",
              "      <td>54.090637</td>\n",
              "    </tr>\n",
              "    <tr>\n",
              "      <th>298</th>\n",
              "      <td>62</td>\n",
              "      <td>63.297171</td>\n",
              "    </tr>\n",
              "    <tr>\n",
              "      <th>299</th>\n",
              "      <td>47</td>\n",
              "      <td>52.459467</td>\n",
              "    </tr>\n",
              "  </tbody>\n",
              "</table>\n",
              "<p>300 rows × 2 columns</p>\n",
              "</div>"
            ],
            "text/plain": [
              "      x          y\n",
              "0    77  79.775152\n",
              "1    21  23.177279\n",
              "2    22  25.609262\n",
              "3    20  17.857388\n",
              "4    36  41.849864\n",
              "..   ..        ...\n",
              "295  71  68.545888\n",
              "296  46  47.334876\n",
              "297  55  54.090637\n",
              "298  62  63.297171\n",
              "299  47  52.459467\n",
              "\n",
              "[300 rows x 2 columns]"
            ]
          },
          "metadata": {
            "tags": []
          },
          "execution_count": 3
        }
      ]
    },
    {
      "cell_type": "code",
      "metadata": {
        "id": "1zAVQWiVfcFg",
        "colab_type": "code",
        "colab": {
          "base_uri": "https://localhost:8080/",
          "height": 34
        },
        "outputId": "62383c37-4eae-42b3-dabe-b498e1b8d318"
      },
      "source": [
        "df.shape"
      ],
      "execution_count": null,
      "outputs": [
        {
          "output_type": "execute_result",
          "data": {
            "text/plain": [
              "(300, 2)"
            ]
          },
          "metadata": {
            "tags": []
          },
          "execution_count": 4
        }
      ]
    },
    {
      "cell_type": "code",
      "metadata": {
        "id": "iesMNaQWfh0E",
        "colab_type": "code",
        "colab": {
          "base_uri": "https://localhost:8080/",
          "height": 265
        },
        "outputId": "59851d93-ab7d-4100-9b3d-832a1ee296be"
      },
      "source": [
        "import matplotlib.pyplot as plt\n",
        "plt.scatter (df['x'],df['y'])\n",
        "plt.show()"
      ],
      "execution_count": null,
      "outputs": [
        {
          "output_type": "display_data",
          "data": {
            "image/png": "[encoded data removed]",
            "text/plain": [
              "<Figure size 432x288 with 1 Axes>"
            ]
          },
          "metadata": {
            "tags": [],
            "needs_background": "light"
          }
        }
      ]
    },
    {
      "cell_type": "code",
      "metadata": {
        "id": "kC-_GUtWfkAm",
        "colab_type": "code",
        "colab": {}
      },
      "source": [
        "x = df.iloc[:,[1]].values\n",
        "y = df.iloc[:,1].values"
      ],
      "execution_count": null,
      "outputs": []
    },
    {
      "cell_type": "code",
      "metadata": {
        "id": "0N0Zy5FefqJp",
        "colab_type": "code",
        "colab": {
          "base_uri": "https://localhost:8080/",
          "height": 34
        },
        "outputId": "9f294b75-0fe4-4f73-ebbc-ce1a3b08dc9e"
      },
      "source": [
        "from sklearn.linear_model import LinearRegression\n",
        "model = LinearRegression()\n",
        "model.fit(x,y)\n",
        "y_pred = model.predict([[5]])\n",
        "y_pred"
      ],
      "execution_count": null,
      "outputs": [
        {
          "output_type": "execute_result",
          "data": {
            "text/plain": [
              "array([5.])"
            ]
          },
          "metadata": {
            "tags": []
          },
          "execution_count": 7
        }
      ]
    },
    {
      "cell_type": "code",
      "metadata": {
        "id": "kYxWIlEXfypT",
        "colab_type": "code",
        "colab": {
          "base_uri": "https://localhost:8080/",
          "height": 34
        },
        "outputId": "a6f1406f-4100-4f18-bf43-a6df0a2994e9"
      },
      "source": [
        "model.coef_"
      ],
      "execution_count": null,
      "outputs": [
        {
          "output_type": "execute_result",
          "data": {
            "text/plain": [
              "array([1.])"
            ]
          },
          "metadata": {
            "tags": []
          },
          "execution_count": 8
        }
      ]
    },
    {
      "cell_type": "code",
      "metadata": {
        "id": "ZLGSd_Myf20F",
        "colab_type": "code",
        "colab": {
          "base_uri": "https://localhost:8080/",
          "height": 34
        },
        "outputId": "2da7be79-dd07-44a4-abe4-f090180788ad"
      },
      "source": [
        "model.intercept_"
      ],
      "execution_count": null,
      "outputs": [
        {
          "output_type": "execute_result",
          "data": {
            "text/plain": [
              "1.4210854715202004e-14"
            ]
          },
          "metadata": {
            "tags": []
          },
          "execution_count": 9
        }
      ]
    },
    {
      "cell_type": "code",
      "metadata": {
        "id": "L6wvNvjbf4vr",
        "colab_type": "code",
        "colab": {
          "base_uri": "https://localhost:8080/",
          "height": 265
        },
        "outputId": "3d20dfc4-c606-41c6-d15f-d232dfa418db"
      },
      "source": [
        "#plot best fit line\n",
        "plt.scatter(x,y,c='r')\n",
        "plt.plot(x,model.predict(x))\n",
        "plt.show()"
      ],
      "execution_count": null,
      "outputs": [
        {
          "output_type": "display_data",
          "data": {
            "image/png": "[encoded data removed]",
            "text/plain": [
              "<Figure size 432x288 with 1 Axes>"
            ]
          },
          "metadata": {
            "tags": [],
            "needs_background": "light"
          }
        }
      ]
    },
    {
      "cell_type": "code",
      "metadata": {
        "id": "FUYZbPWvf8-e",
        "colab_type": "code",
        "colab": {}
      },
      "source": [
        "from sklearn.model_selection import train_test_split\n",
        "x_train,x_test,y_train,y_test = train_test_split(x,y,test_size=0.3,random_state=50)"
      ],
      "execution_count": null,
      "outputs": []
    },
    {
      "cell_type": "code",
      "metadata": {
        "id": "JKseu7DNgHOL",
        "colab_type": "code",
        "colab": {
          "base_uri": "https://localhost:8080/",
          "height": 34
        },
        "outputId": "9ac93ba5-aaf7-437a-db41-e195f1bd3c00"
      },
      "source": [
        "x_train.shape"
      ],
      "execution_count": null,
      "outputs": [
        {
          "output_type": "execute_result",
          "data": {
            "text/plain": [
              "(210, 1)"
            ]
          },
          "metadata": {
            "tags": []
          },
          "execution_count": 13
        }
      ]
    },
    {
      "cell_type": "code",
      "metadata": {
        "id": "dKTL1GB6gOaO",
        "colab_type": "code",
        "colab": {
          "base_uri": "https://localhost:8080/",
          "height": 34
        },
        "outputId": "51df5ba8-1f77-46ab-9a77-058fb1916fd7"
      },
      "source": [
        "x_test.shape"
      ],
      "execution_count": null,
      "outputs": [
        {
          "output_type": "execute_result",
          "data": {
            "text/plain": [
              "(90, 1)"
            ]
          },
          "metadata": {
            "tags": []
          },
          "execution_count": 14
        }
      ]
    },
    {
      "cell_type": "code",
      "metadata": {
        "id": "p2D2LFuugULN",
        "colab_type": "code",
        "colab": {
          "base_uri": "https://localhost:8080/",
          "height": 403
        },
        "outputId": "98da8b05-4607-4a5f-cbbb-0475a0b7d48e"
      },
      "source": [
        "from sklearn.linear_model import LinearRegression\n",
        "model = LinearRegression()\n",
        "model.fit(x_train,y_train)\n",
        "y_pred = model.predict(x_test)\n",
        "y_pred"
      ],
      "execution_count": null,
      "outputs": [
        {
          "output_type": "execute_result",
          "data": {
            "text/plain": [
              "array([  0.67607675,  84.06676818,  74.68953276,   7.64652976,\n",
              "        17.44047622,  26.48713683,  49.83051801,  45.96396877,\n",
              "        33.07112825,  49.88226593,  50.17008622,  52.45946688,\n",
              "        91.30863673,  -2.81991397,  13.12109842,  97.13832018,\n",
              "        33.38474138,  75.07484683,  28.15668543,  70.34969772,\n",
              "        38.14753871,  36.34644189,  66.95806869,  97.41206981,\n",
              "        36.94173178,  34.8534823 ,  59.225745  ,  44.68913433,\n",
              "        66.61499643,  13.25690647,   7.46850184,  23.44479161,\n",
              "        69.46306072,  92.11906278,  68.11367147,  33.37834391,\n",
              "        54.55446979,  51.10774273,  18.31396758,  82.870594  ,\n",
              "        67.22008001,  18.39512747,  24.18437976,   2.81141583,\n",
              "        57.01631363,  88.80306911,  73.9308764 ,  92.88772282,\n",
              "        99.87382707,  68.94699774,  75.69298554,  31.43524822,\n",
              "        90.65513736,  21.42637785,  14.82248589,  97.27405461,\n",
              "        38.68888682,  36.06292994, 105.4503788 ,  89.73951993,\n",
              "        67.68142149,  64.37521087,  -3.46788379,  18.98322306,\n",
              "        52.05490703,  78.61042432,  56.82457013,  95.79747345,\n",
              "        95.58017185,  34.12473248,  41.46923883,  67.2352155 ,\n",
              "        98.13258005,  17.85738813,  25.75612514,  38.05766408,\n",
              "        23.17727887,  68.48820749,  17.0761107 ,  67.01715955,\n",
              "        95.12400481,  50.96343637,  34.58876491,  27.42497237,\n",
              "        19.38780134,  21.71380347,  25.63476257,  -1.63296825,\n",
              "        87.45721555,   2.57662538])"
            ]
          },
          "metadata": {
            "tags": []
          },
          "execution_count": 15
        }
      ]
    },
    {
      "cell_type": "code",
      "metadata": {
        "id": "sEbJ7cDjhQLL",
        "colab_type": "code",
        "colab": {
          "base_uri": "https://localhost:8080/",
          "height": 403
        },
        "outputId": "c92013de-1df7-4c2a-bf84-d91201d54704"
      },
      "source": [
        "y_test"
      ],
      "execution_count": null,
      "outputs": [
        {
          "output_type": "execute_result",
          "data": {
            "text/plain": [
              "array([  0.67607675,  84.06676818,  74.68953276,   7.64652976,\n",
              "        17.44047622,  26.48713683,  49.83051801,  45.96396877,\n",
              "        33.07112825,  49.88226593,  50.17008622,  52.45946688,\n",
              "        91.30863673,  -2.81991397,  13.12109842,  97.13832018,\n",
              "        33.38474138,  75.07484683,  28.15668543,  70.34969772,\n",
              "        38.14753871,  36.34644189,  66.95806869,  97.41206981,\n",
              "        36.94173178,  34.8534823 ,  59.225745  ,  44.68913433,\n",
              "        66.61499643,  13.25690647,   7.46850184,  23.44479161,\n",
              "        69.46306072,  92.11906278,  68.11367147,  33.37834391,\n",
              "        54.55446979,  51.10774273,  18.31396758,  82.870594  ,\n",
              "        67.22008001,  18.39512747,  24.18437976,   2.81141583,\n",
              "        57.01631363,  88.80306911,  73.9308764 ,  92.88772282,\n",
              "        99.87382707,  68.94699774,  75.69298554,  31.43524822,\n",
              "        90.65513736,  21.42637785,  14.82248589,  97.27405461,\n",
              "        38.68888682,  36.06292994, 105.4503788 ,  89.73951993,\n",
              "        67.68142149,  64.37521087,  -3.46788379,  18.98322306,\n",
              "        52.05490703,  78.61042432,  56.82457013,  95.79747345,\n",
              "        95.58017185,  34.12473248,  41.46923883,  67.2352155 ,\n",
              "        98.13258005,  17.85738813,  25.75612514,  38.05766408,\n",
              "        23.17727887,  68.48820749,  17.0761107 ,  67.01715955,\n",
              "        95.12400481,  50.96343637,  34.58876491,  27.42497237,\n",
              "        19.38780134,  21.71380347,  25.63476257,  -1.63296825,\n",
              "        87.45721555,   2.57662538])"
            ]
          },
          "metadata": {
            "tags": []
          },
          "execution_count": 16
        }
      ]
    },
    {
      "cell_type": "code",
      "metadata": {
        "id": "RwB1WGmDhrJD",
        "colab_type": "code",
        "colab": {
          "base_uri": "https://localhost:8080/",
          "height": 34
        },
        "outputId": "e8adf8f3-fc9f-4a06-8dc3-f0f8c363f400"
      },
      "source": [
        "from sklearn import metrics\n",
        "metrics.mean_squared_error(y_test,y_pred)"
      ],
      "execution_count": null,
      "outputs": [
        {
          "output_type": "execute_result",
          "data": {
            "text/plain": [
              "0.0"
            ]
          },
          "metadata": {
            "tags": []
          },
          "execution_count": 18
        }
      ]
    },
    {
      "cell_type": "code",
      "metadata": {
        "id": "aOkfb09JiDwy",
        "colab_type": "code",
        "colab": {
          "base_uri": "https://localhost:8080/",
          "height": 34
        },
        "outputId": "249ef44e-61f4-4e69-8bf7-131e0c3f83fa"
      },
      "source": [
        "#accuracy score\n",
        "metrics.r2_score(y_test,y_pred)"
      ],
      "execution_count": null,
      "outputs": [
        {
          "output_type": "execute_result",
          "data": {
            "text/plain": [
              "1.0"
            ]
          },
          "metadata": {
            "tags": []
          },
          "execution_count": 19
        }
      ]
    }
  ]
}